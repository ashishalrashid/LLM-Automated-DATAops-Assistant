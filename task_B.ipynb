{
 "cells": [
  {
   "cell_type": "code",
   "execution_count": null,
   "metadata": {},
   "outputs": [],
   "source": [
    "from dotenv import load_dotenv\n",
    "import os\n",
    "load_dotenv()\n",
    "api_token = os.getenv(\"AIPROXY_TOKEN\")\n",
    "import requests\n",
    "import pandas as pd\n",
    "import subprocess\n",
    "import sys\n",
    "import shlex\n",
    "from dateutil.parser import parse\n",
    "\n"
   ]
  },
  {
   "cell_type": "code",
   "execution_count": 48,
   "metadata": {},
   "outputs": [],
   "source": [
    "headers={\n",
    "        \"Authorization\": f\"Bearer {api_token}\",\n",
    "        \"Content-Type\": \"application/json\"\n",
    "}\n",
    "url=\"https://aiproxy.sanand.workers.dev/openai/v1/chat/completions\""
   ]
  },
  {
   "cell_type": "code",
   "execution_count": 85,
   "metadata": {},
   "outputs": [],
   "source": [
    "def make_relative_path(path: str) -> str:\n",
    "    print(\"I have seen you kind time and time again\")\n",
    "    return path.lstrip(\"/\")  # If absolute local path, remove leading slash\n"
   ]
  },
  {
   "cell_type": "markdown",
   "metadata": {},
   "source": [
    "Function Inits"
   ]
  },
  {
   "cell_type": "code",
   "execution_count": 50,
   "metadata": {},
   "outputs": [],
   "source": [
    "#generate code\n",
    "\n",
    "def execute_generated_code(code, arguments=None):\n",
    "    # Save the provided code to a temporary file.\n",
    "    script_path = \"generated_script.py\"\n",
    "    with open(script_path, \"w\") as f:\n",
    "        f.write(code)\n",
    "\n",
    "    # Build command with optional arguments.\n",
    "    if arguments:\n",
    "        # Convert arguments to command-line format: --key value\n",
    "        param_str = \" \".join(f'--{k} {v}' for k, v in arguments.items())\n",
    "        command = f\"python {script_path} {param_str}\"\n",
    "    else:\n",
    "        command = f\"python {script_path}\"\n",
    "\n",
    "    # Execute the script and capture output.\n",
    "    result = subprocess.run(command, shell=True, capture_output=True, text=True)\n",
    "    return result.stdout if result.stdout else result.stderr\n"
   ]
  },
  {
   "cell_type": "code",
   "execution_count": 51,
   "metadata": {},
   "outputs": [],
   "source": [
    "#run npx package\n",
    "\n",
    "def run_npx_package(package, arg=None):\n",
    "    npx = \"npx.cmd\" if os.name == \"nt\" else \"npx\"\n",
    "    cmd = [npx, package]\n",
    "    if arg:\n",
    "        cmd.extend(shlex.split(arg))\n",
    "    print(\"Running command:\", \" \".join(cmd))\n",
    "    result = subprocess.run(cmd)\n",
    "    if result.returncode:\n",
    "        sys.exit(result.returncode)\n"
   ]
  },
  {
   "cell_type": "code",
   "execution_count": null,
   "metadata": {},
   "outputs": [],
   "source": [
    "#count_day_occurrences\n",
    "\n",
    "\n",
    "def count_day_occurrences(input_path, output_path, day):\n",
    "    input_path = make_relative_path(input_path)\n",
    "    output_path = make_relative_path(output_path)\n",
    "    \n",
    "    day = day.lower()\n",
    "    day_map = {\n",
    "        \"monday\": 0,\n",
    "        \"tuesday\": 1,\n",
    "        \"wednesday\": 2,\n",
    "        \"thursday\": 3,\n",
    "        \"friday\": 4,\n",
    "        \"saturday\": 5,\n",
    "        \"sunday\": 6\n",
    "    }\n",
    "    \n",
    "\n",
    "    target_weekday = day_map[day]\n",
    "    count = 0\n",
    "\n",
    "    with open(input_path, 'r') as infile:\n",
    "        for line in infile:\n",
    "            line = line.strip()\n",
    "            if not line:\n",
    "                continue\n",
    "            try:\n",
    "                dt = parse(line, fuzzy=True)\n",
    "                iso_date = dt.strftime('%Y-%m-%d')\n",
    "                if dt.weekday() == target_weekday:\n",
    "                    count += 1\n",
    "            except Exception:\n",
    "                continue\n",
    "\n",
    "    with open(output_path, 'w') as outfile:\n",
    "        outfile.write(str(count))\n",
    "\n",
    "# count_day_occurrences('/data/dates.txt', '/data/dates-wednesdays.txt', 'Wednesday')\n"
   ]
  },
  {
   "cell_type": "code",
   "execution_count": 76,
   "metadata": {},
   "outputs": [],
   "source": [
    "#A4 sort some json files\n",
    "\n",
    "def sort_json_file(input_file, output_file, sort_keys):\n",
    "    input_file = make_relative_path(input_file)\n",
    "    output_file = make_relative_path(output_file)\n",
    "    with open(input_file, 'r') as f:\n",
    "        data = json.load(f)\n",
    "    \n",
    "    sorted_data = sorted(data, key=lambda x: [x[k] for k in sort_keys])\n",
    "    \n",
    "    with open(output_file, 'w') as f:\n",
    "        json.dump(sorted_data, f, indent=4)"
   ]
  },
  {
   "cell_type": "code",
   "execution_count": 77,
   "metadata": {},
   "outputs": [
    {
     "name": "stdout",
     "output_type": "stream",
     "text": [
      "OUT HERE\n",
      "OUT HERE\n"
     ]
    }
   ],
   "source": [
    "sort_json_file('/data/contacts.json', '/data/contacts-sorted.json', ['last_name', 'first_name'])"
   ]
  },
  {
   "cell_type": "markdown",
   "metadata": {},
   "source": [
    "Function Calling Schema"
   ]
  },
  {
   "cell_type": "code",
   "execution_count": 78,
   "metadata": {},
   "outputs": [],
   "source": [
    "function_list = [ {\n",
    "        \"type\": \"function\",\n",
    "        \"function\": {\n",
    "            \"name\": \"execute_generated_code\",\n",
    "            \"description\": \"Execute a given Python script with provided parameters.\",\n",
    "            \"parameters\": {\n",
    "                \"type\": \"object\",\n",
    "                \"properties\": {\n",
    "                    \"code\": {\n",
    "                        \"type\": \"string\",\n",
    "                        \"description\": \"The Python code to execute.\"\n",
    "                    },\n",
    "                    \"arguments\": {\n",
    "                        \"type\": \"object\",\n",
    "                        \"description\": \"Key-value pairs of arguments to be passed to the script.\",\n",
    "                        \"additionalProperties\": True  \n",
    "                    }\n",
    "                },\n",
    "                \"required\": [\"code\"], \n",
    "                \"additionalProperties\": False \n",
    "            }\n",
    "        }\n",
    "    },\n",
    "{\n",
    "        \"type\": \"function\",\n",
    "        \"function\": {\n",
    "            \"name\": \"count_day_occurrence\",\n",
    "            \"description\": \"Count occurrences of a specified day from dates in a file.\",\n",
    "            \"parameters\": {\n",
    "                \"type\": \"object\",\n",
    "                \"properties\": {\n",
    "                    \"input_file\": {\"type\": \"string\", \"description\": \"Input file with dates.\"},\n",
    "                    \"day\": {\"type\": \"string\", \"description\": \"Day to count.\"},\n",
    "                    \"output_file\": {\"type\": \"string\", \"description\": \"Output file for count.\"}\n",
    "                },\n",
    "                \"required\": [\"input_file\", \"day\", \"output_file\"],\n",
    "                \"additionalProperties\": False\n",
    "            }\n",
    "        }\n",
    "    },\n",
    "    {\n",
    "        \"type\": \"function\",\n",
    "        \"function\": {\n",
    "            \"name\": \"run_npx_package\",\n",
    "            \"description\": \"Run npx command with optional arg and output file.\",\n",
    "            \"parameters\": {\n",
    "                \"type\": \"object\",\n",
    "                \"properties\": {\n",
    "                    \"package\": {\"type\": \"string\"},\n",
    "                    \"arg\": {\"type\": \"string\"},\n",
    "                    \"output_file\": {\"type\": \"string\"}\n",
    "                },\n",
    "                \"required\": [\"package\"],\n",
    "                \"additionalProperties\": False\n",
    "            }\n",
    "        }\n",
    "    },\n",
    "    {\n",
    "  \"type\": \"function\",\n",
    "  \"function\": {\n",
    "    \"name\": \"sort_json_file\",\n",
    "    \"description\": \"Sort JSON file by keys.\",\n",
    "    \"parameters\": {\n",
    "      \"type\": \"object\",\n",
    "      \"properties\": {\n",
    "        \"input_file\": { \"type\": \"string\" },\n",
    "        \"output_file\": { \"type\": \"string\" },\n",
    "        \"sort_keys\": {\n",
    "          \"type\": \"array\",\n",
    "          \"items\": { \"type\": \"string\" }\n",
    "        }\n",
    "      },\n",
    "      \"required\": [\"input_file\", \"output_file\", \"sort_keys\"],\n",
    "      \"additionalProperties\": False\n",
    "    }\n",
    "  }\n",
    "}\n",
    "\n",
    "\n",
    "\n",
    "]"
   ]
  },
  {
   "cell_type": "code",
   "execution_count": 79,
   "metadata": {},
   "outputs": [],
   "source": [
    "prompt=\"\"\"\n",
    "sort the json file at location /data/contacts.json by email and save it as /data/contacts-email-sorted.json\n",
    "\"\"\""
   ]
  },
  {
   "cell_type": "code",
   "execution_count": 80,
   "metadata": {},
   "outputs": [],
   "source": [
    "response = requests.post(\n",
    "    url=url,\n",
    "    headers=headers,\n",
    "    json={\n",
    "        \"model\": \"gpt-4o-mini\",\n",
    "        \"messages\": [\n",
    "            {\"role\": \"system\", \"content\": \"You are an expert Python programmer.\"},\n",
    "            {\"role\": \"user\", \"content\": prompt}\n",
    "        ],\n",
    "        \"tools\": function_list,\n",
    "        \"tool_choice\": \"auto\"\n",
    "    }\n",
    ")"
   ]
  },
  {
   "cell_type": "code",
   "execution_count": 81,
   "metadata": {},
   "outputs": [
    {
     "data": {
      "text/plain": [
       "{'id': 'chatcmpl-B0GqeL2rTMAvbaMd6tMMqbzTjWN0h',\n",
       " 'object': 'chat.completion',\n",
       " 'created': 1739404464,\n",
       " 'model': 'gpt-4o-mini-2024-07-18',\n",
       " 'choices': [{'index': 0,\n",
       "   'message': {'role': 'assistant',\n",
       "    'content': None,\n",
       "    'tool_calls': [{'id': 'call_a1LayPQIdwPUE9hXXJZaw9Vb',\n",
       "      'type': 'function',\n",
       "      'function': {'name': 'sort_json_file',\n",
       "       'arguments': '{\"input_file\":\"/data/contacts.json\",\"output_file\":\"/data/contacts-email-sorted.json\",\"sort_keys\":[\"email\"]}'}}],\n",
       "    'refusal': None},\n",
       "   'logprobs': None,\n",
       "   'finish_reason': 'tool_calls'}],\n",
       " 'usage': {'prompt_tokens': 210,\n",
       "  'completion_tokens': 39,\n",
       "  'total_tokens': 249,\n",
       "  'prompt_tokens_details': {'cached_tokens': 0, 'audio_tokens': 0},\n",
       "  'completion_tokens_details': {'reasoning_tokens': 0,\n",
       "   'audio_tokens': 0,\n",
       "   'accepted_prediction_tokens': 0,\n",
       "   'rejected_prediction_tokens': 0}},\n",
       " 'service_tier': 'default',\n",
       " 'system_fingerprint': 'fp_bd83329f63',\n",
       " 'monthlyCost': 0.034461000000000006,\n",
       " 'cost': 0.000864,\n",
       " 'monthlyRequests': 27}"
      ]
     },
     "execution_count": 81,
     "metadata": {},
     "output_type": "execute_result"
    }
   ],
   "source": [
    "response.json()"
   ]
  },
  {
   "cell_type": "code",
   "execution_count": 82,
   "metadata": {},
   "outputs": [
    {
     "name": "stdout",
     "output_type": "stream",
     "text": [
      "{'input_file': '/data/contacts.json', 'output_file': '/data/contacts-email-sorted.json', 'sort_keys': ['email']}\n"
     ]
    }
   ],
   "source": [
    "import json\n",
    "arguments_str = response.json()['choices'][0]['message']['tool_calls'][0]['function']['arguments']\n",
    "parsed_arguments = json.loads(arguments_str)\n",
    "\n",
    "print(parsed_arguments)\n"
   ]
  },
  {
   "cell_type": "code",
   "execution_count": 83,
   "metadata": {},
   "outputs": [],
   "source": [
    "function_name=response.json()['choices'][0]['message']['tool_calls'][0]['function']['name']\n"
   ]
  },
  {
   "cell_type": "code",
   "execution_count": 67,
   "metadata": {},
   "outputs": [],
   "source": [
    "if function_name == \"execute_generated_code\":\n",
    "    code=parsed_arguments['code']\n",
    "    arguments = parsed_arguments.get('arguments', None)\n",
    "    execute_generated_code(code, arguments)"
   ]
  },
  {
   "cell_type": "code",
   "execution_count": 68,
   "metadata": {},
   "outputs": [],
   "source": [
    "if function_name==\"run_npx_package\":\n",
    "    package=parsed_arguments['package']\n",
    "    arg=parsed_arguments.get('arg', None)\n",
    "    run_npx_package(package, arg)"
   ]
  },
  {
   "cell_type": "code",
   "execution_count": 69,
   "metadata": {},
   "outputs": [
    {
     "name": "stdout",
     "output_type": "stream",
     "text": [
      "OUT HERE\n",
      "OUT HERE\n"
     ]
    }
   ],
   "source": [
    "if function_name==\"count_day_occurrence\":\n",
    "    input_file=parsed_arguments['input_file']\n",
    "    output_file=parsed_arguments['output_file']\n",
    "    day=parsed_arguments['day']\n",
    "    count_day_occurrences(input_file, output_file, day)"
   ]
  },
  {
   "cell_type": "code",
   "execution_count": 86,
   "metadata": {},
   "outputs": [
    {
     "name": "stdout",
     "output_type": "stream",
     "text": [
      "I have seen you kind time and time again\n",
      "I have seen you kind time and time again\n"
     ]
    }
   ],
   "source": [
    "if function_name==\"sort_json_file\":\n",
    "    input_file=parsed_arguments['input_file']\n",
    "    output_file=parsed_arguments['output_file']\n",
    "    sort_keys=parsed_arguments['sort_keys']\n",
    "    sort_json_file(input_file, output_file, sort_keys)"
   ]
  }
 ],
 "metadata": {
  "kernelspec": {
   "display_name": "Python 3",
   "language": "python",
   "name": "python3"
  },
  "language_info": {
   "codemirror_mode": {
    "name": "ipython",
    "version": 3
   },
   "file_extension": ".py",
   "mimetype": "text/x-python",
   "name": "python",
   "nbconvert_exporter": "python",
   "pygments_lexer": "ipython3",
   "version": "3.12.5"
  }
 },
 "nbformat": 4,
 "nbformat_minor": 2
}
