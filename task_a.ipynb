{
 "cells": [
  {
   "cell_type": "code",
   "execution_count": null,
   "metadata": {},
   "outputs": [],
   "source": [
    "def run_npx_package(package, arg=None):\n",
    "    npx = \"npx.cmd\" if os.name == \"nt\" else \"npx\"\n",
    "    cmd = [npx, package]\n",
    "    if arg is not None:\n",
    "        cmd.append(arg)\n",
    "    print(\"Running command:\", \" \".join(cmd))\n",
    "    result = subprocess.run(cmd)\n",
    "    if result.returncode:\n",
    "        sys.exit(result.returncode)"
   ]
  }
 ],
 "metadata": {
  "language_info": {
   "name": "python"
  }
 },
 "nbformat": 4,
 "nbformat_minor": 2
}
