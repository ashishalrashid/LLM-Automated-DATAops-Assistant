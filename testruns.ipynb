{
 "cells": [
  {
   "cell_type": "code",
   "execution_count": 1,
   "metadata": {},
   "outputs": [],
   "source": [
    "from dotenv import load_dotenv\n",
    "import os\n",
    "load_dotenv()\n",
    "api_token = os.getenv(\"AIPROXY_TOKEN\")"
   ]
  },
  {
   "cell_type": "code",
   "execution_count": 2,
   "metadata": {},
   "outputs": [],
   "source": [
    "import requests"
   ]
  },
  {
   "cell_type": "code",
   "execution_count": 17,
   "metadata": {},
   "outputs": [],
   "source": [
    "import pandas as pd\n",
    "todo_df=pd.DataFrame(columns=['tasks','duration','deadline'])"
   ]
  },
  {
   "cell_type": "code",
   "execution_count": 3,
   "metadata": {},
   "outputs": [],
   "source": [
    "headers={\n",
    "        \"Authorization\": f\"Bearer {api_token}\",\n",
    "        \"Content-Type\": \"application/json\"\n",
    "}"
   ]
  },
  {
   "cell_type": "code",
   "execution_count": 4,
   "metadata": {},
   "outputs": [],
   "source": [
    "url=\"https://aiproxy.sanand.workers.dev/openai/v1/chat/completions\""
   ]
  },
  {
   "cell_type": "code",
   "execution_count": null,
   "metadata": {},
   "outputs": [],
   "source": [
    "prompt=\"\"\"\n",
    "list of tasks to do \n",
    "do my project (duration 3hrs)\n",
    "complete my assignments(duration 12hrs)\n",
    "complete my capstone (duration 8 hrs)\n",
    "bath (30 mins)\n",
    "\n",
    "the final date is 15th feb\n",
    "\"\"\""
   ]
  },
  {
   "cell_type": "code",
   "execution_count": 8,
   "metadata": {},
   "outputs": [],
   "source": [
    "to_list=[\n",
    "    {\n",
    "        \"task\":\"Project\",\"duration\":3,\n",
    "    },\n",
    "    {\n",
    "        \"task\":\"Assignment\",\"duration\":12\n",
    "    },\n",
    "    {\n",
    "        \"task\":\"capstone\",\"duration\":8\n",
    "    },\n",
    "    {\n",
    "        \"task\":\"bath\",\"duration\":0.5\n",
    "    }\n",
    "]\n",
    "deadline=\"15 th feb\"\n"
   ]
  },
  {
   "cell_type": "code",
   "execution_count": 15,
   "metadata": {},
   "outputs": [],
   "source": [
    "def todo(to_list,deadline):\n",
    "    total_dur=0\n",
    "    for todo in to_list:\n",
    "        task=todo['task']\n",
    "        duration=todo['duration']\n",
    "        total_dur+=duration\n",
    "\n",
    "        new_todo = {\n",
    "            \"tasks\": task,\n",
    "            \"duration\": duration,\n",
    "            \"deadline\": deadline\n",
    "        }\n",
    "        global todo_df\n",
    "        todo_df=pd.concat([todo_df,pd.DataFrame(new_todo,index=[0])],ignore_index=True,axis=0)\n",
    "    return\n"
   ]
  },
  {
   "cell_type": "code",
   "execution_count": 18,
   "metadata": {},
   "outputs": [
    {
     "data": {
      "text/html": [
       "<div>\n",
       "<style scoped>\n",
       "    .dataframe tbody tr th:only-of-type {\n",
       "        vertical-align: middle;\n",
       "    }\n",
       "\n",
       "    .dataframe tbody tr th {\n",
       "        vertical-align: top;\n",
       "    }\n",
       "\n",
       "    .dataframe thead th {\n",
       "        text-align: right;\n",
       "    }\n",
       "</style>\n",
       "<table border=\"1\" class=\"dataframe\">\n",
       "  <thead>\n",
       "    <tr style=\"text-align: right;\">\n",
       "      <th></th>\n",
       "      <th>tasks</th>\n",
       "      <th>duration</th>\n",
       "      <th>deadline</th>\n",
       "    </tr>\n",
       "  </thead>\n",
       "  <tbody>\n",
       "    <tr>\n",
       "      <th>0</th>\n",
       "      <td>Project</td>\n",
       "      <td>3</td>\n",
       "      <td>15 th feb</td>\n",
       "    </tr>\n",
       "    <tr>\n",
       "      <th>1</th>\n",
       "      <td>Assignment</td>\n",
       "      <td>12</td>\n",
       "      <td>15 th feb</td>\n",
       "    </tr>\n",
       "    <tr>\n",
       "      <th>2</th>\n",
       "      <td>capstone</td>\n",
       "      <td>8</td>\n",
       "      <td>15 th feb</td>\n",
       "    </tr>\n",
       "    <tr>\n",
       "      <th>3</th>\n",
       "      <td>bath</td>\n",
       "      <td>0.5</td>\n",
       "      <td>15 th feb</td>\n",
       "    </tr>\n",
       "  </tbody>\n",
       "</table>\n",
       "</div>"
      ],
      "text/plain": [
       "        tasks duration   deadline\n",
       "0     Project        3  15 th feb\n",
       "1  Assignment       12  15 th feb\n",
       "2    capstone        8  15 th feb\n",
       "3        bath      0.5  15 th feb"
      ]
     },
     "execution_count": 18,
     "metadata": {},
     "output_type": "execute_result"
    }
   ],
   "source": [
    "todo(to_list,deadline)\n",
    "todo_df"
   ]
  },
  {
   "cell_type": "code",
   "execution_count": null,
   "metadata": {},
   "outputs": [
    {
     "name": "stdout",
     "output_type": "stream",
     "text": [
      "[\n",
      "    {\n",
      "        \"type\": \"function\",\n",
      "        \"function\": {\n",
      "            \"name\": \"get_list\",\n",
      "            \"description\": \"Extract the json schema\",\n",
      "            \"parameters\": {\n",
      "                \"type\": \"object\",\n",
      "                \"properties\": {\n",
      "                    \"tasks\": {\n",
      "                        \"type\": \"array\",\n",
      "                        \"description\": \"A list of tasks with their respective durations.\",\n",
      "                        \"items\": {\n",
      "                            \"type\": \"object\",\n",
      "                            \"properties\": {\n",
      "                                \"task\": {\n",
      "                                    \"type\": \"string\",\n",
      "                                    \"description\": \"The name of the task to be completed.\"\n",
      "                                },\n",
      "                                \"duration\": {\n",
      "                                    \"type\": \"number\",\n",
      "                                    \"description\": \"The time required to complete the task (in hours).\"\n",
      "                                }\n",
      "                            },\n",
      "                            \"required\": [\n",
      "                                \"task\",\n",
      "                                \"duration\"\n",
      "                            ],\n",
      "                            \"additionalProperties\": false\n",
      "                        }\n",
      "                    },\n",
      "                    \"deadline\": {\n",
      "                        \"type\": \"string\",\n",
      "                        \"description\": \"The deadline for completing all tasks (e.g., '15th Feb').\"\n",
      "                    }\n",
      "                },\n",
      "                \"required\": [\n",
      "                    \"tasks\",\n",
      "                    \"deadline\"\n",
      "                ],\n",
      "                \"additionalProperties\": false\n",
      "            }\n",
      "        }\n",
      "    }\n",
      "]\n"
     ]
    }
   ],
   "source": [
    "todo_function_py = [\n",
    "    {\n",
    "    \"type\": \"function\",\n",
    "    \"function\": {\n",
    "        \"name\": \"get_list\",\n",
    "        \"description\": \"from the given prompt extract the json schema , if required values are missing request the parameters\",\n",
    "        \"parameters\": {\n",
    "            \"type\": \"object\",\n",
    "            \"properties\": {\n",
    "                \"tasks\": {\n",
    "                    \"type\": \"array\",\n",
    "                    \"description\": \"A list of tasks with their respective durations.\",\n",
    "                    \"items\": {\n",
    "                        \"type\": \"object\",\n",
    "                        \"properties\": {\n",
    "                            \"task\": {\n",
    "                                \"type\": \"string\",\n",
    "                                \"description\": \"The name of the task to be completed.\"\n",
    "                            },\n",
    "                            \"duration\": {\n",
    "                                \"type\": \"number\",\n",
    "                                \"description\": \"The time required to complete the task (in hours).\"\n",
    "                            }\n",
    "                        },\n",
    "                        \"required\": [\"task\", \"duration\"],\n",
    "                        \"additionalProperties\": False  # Correct in Python\n",
    "                    }\n",
    "                },\n",
    "                \"deadline\": {\n",
    "                    \"type\": \"string\",\n",
    "                    \"description\": \"The deadline for completing all tasks (e.g., '15th Feb').\"\n",
    "                }\n",
    "            },\n",
    "            \"required\": [\"tasks\", \"deadline\"],\n",
    "            \"additionalProperties\": False  # Correct in Python\n",
    "        }\n",
    "    }\n",
    "    },\n",
    "    {\n",
    "        \"type\": \"function\",\n",
    "        \"function\": {\n",
    "            \"name\": \"count_day_occurrence\",\n",
    "            \"description\": \"Count occurrences of a specified day from dates in a file.\",\n",
    "            \"parameters\": {\n",
    "                \"type\": \"object\",\n",
    "                \"properties\": {\n",
    "                    \"input_file\": {\"type\": \"string\", \"description\": \"Input file with dates.\"},\n",
    "                    \"day\": {\"type\": \"string\", \"description\": \"Day to count.\"},\n",
    "                    \"output_file\": {\"type\": \"string\", \"description\": \"Output file for count.\"}\n",
    "                },\n",
    "                \"required\": [\"input_file\", \"day\", \"output_file\"],\n",
    "                \"additionalProperties\": False\n",
    "            }\n",
    "        }\n",
    "    },\n",
    "    {\n",
    "        \"type\": \"function\",\n",
    "        \"function\": {\n",
    "            \"name\": \"run_npx_package\",\n",
    "            \"description\": \"Run npx command with optional arg and output file.\",\n",
    "            \"parameters\": {\n",
    "                \"type\": \"object\",\n",
    "                \"properties\": {\n",
    "                    \"package\": {\"type\": \"string\"},\n",
    "                    \"arg\": {\"type\": \"string\"},\n",
    "                    \"output_file\": {\"type\": \"string\"}\n",
    "                },\n",
    "                \"required\": [\"package\", \"output_file\"],\n",
    "                \"additionalProperties\": False\n",
    "            }\n",
    "        }\n",
    "]\n",
    "\n"
   ]
  },
  {
   "cell_type": "code",
   "execution_count": 48,
   "metadata": {},
   "outputs": [],
   "source": [
    "response=requests.post(url=url,headers=headers, json={\n",
    "    \"model\":\"gpt-4o-mini\",\n",
    "    \"messages\":[{\n",
    "        \"role\":'user',\n",
    "        'content':prompt,\n",
    "    }],\n",
    "        'tools':todo_function_py,\n",
    "        'tool_choice':'auto'\n",
    "}\n",
    "              )"
   ]
  },
  {
   "cell_type": "code",
   "execution_count": 44,
   "metadata": {},
   "outputs": [],
   "source": [
    "payload = {\n",
    "    \"model\": \"gpt-4o-mini\", \n",
    "    \"messages\": [{\n",
    "        \"role\": \"user\",\n",
    "        \"content\": prompt\n",
    "    }],\n",
    "    \"tools\": todo_function_py,  \n",
    "    \"tool_choice\": \"auto\"  \n",
    "}"
   ]
  },
  {
   "cell_type": "code",
   "execution_count": 45,
   "metadata": {},
   "outputs": [],
   "source": [
    "response = requests.post(url=url, headers=headers, json=payload)"
   ]
  },
  {
   "cell_type": "code",
   "execution_count": 46,
   "metadata": {},
   "outputs": [
    {
     "data": {
      "text/plain": [
       "{'id': 'chatcmpl-Az9nwvOPdyGr2AaJclNrUVkIMHV97',\n",
       " 'object': 'chat.completion',\n",
       " 'created': 1739139060,\n",
       " 'model': 'gpt-4o-mini-2024-07-18',\n",
       " 'choices': [{'index': 0,\n",
       "   'message': {'role': 'assistant',\n",
       "    'content': None,\n",
       "    'tool_calls': [{'id': 'call_vmQsM0WMWuXrpZcMxILkS8Ni',\n",
       "      'type': 'function',\n",
       "      'function': {'name': 'get_list',\n",
       "       'arguments': '{\"tasks\":[{\"task\":\"do my project\",\"duration\":3},{\"task\":\"complete my assignments\",\"duration\":12},{\"task\":\"complete my capstone\",\"duration\":8},{\"task\":\"bath\",\"duration\":0.5}],\"deadline\":\"15th Feb\"}'}}],\n",
       "    'refusal': None},\n",
       "   'logprobs': None,\n",
       "   'finish_reason': 'tool_calls'}],\n",
       " 'usage': {'prompt_tokens': 156,\n",
       "  'completion_tokens': 62,\n",
       "  'total_tokens': 218,\n",
       "  'prompt_tokens_details': {'cached_tokens': 0, 'audio_tokens': 0},\n",
       "  'completion_tokens_details': {'reasoning_tokens': 0,\n",
       "   'audio_tokens': 0,\n",
       "   'accepted_prediction_tokens': 0,\n",
       "   'rejected_prediction_tokens': 0}},\n",
       " 'service_tier': 'default',\n",
       " 'system_fingerprint': 'fp_72ed7ab54c',\n",
       " 'monthlyCost': 0.010566,\n",
       " 'cost': 0.00084,\n",
       " 'monthlyRequests': 5}"
      ]
     },
     "execution_count": 46,
     "metadata": {},
     "output_type": "execute_result"
    }
   ],
   "source": [
    "response.json()\n"
   ]
  },
  {
   "cell_type": "code",
   "execution_count": 49,
   "metadata": {},
   "outputs": [
    {
     "data": {
      "text/plain": [
       "{'id': 'chatcmpl-Az9rubnikASMnhq9W6oPIhSS77i8j',\n",
       " 'object': 'chat.completion',\n",
       " 'created': 1739139306,\n",
       " 'model': 'gpt-4o-mini-2024-07-18',\n",
       " 'choices': [{'index': 0,\n",
       "   'message': {'role': 'assistant',\n",
       "    'content': None,\n",
       "    'tool_calls': [{'id': 'call_8nSQH8nV7tCZZJa1FYowIu9X',\n",
       "      'type': 'function',\n",
       "      'function': {'name': 'get_list',\n",
       "       'arguments': '{\"tasks\":[{\"task\":\"do my project\",\"duration\":3},{\"task\":\"complete my assignments\",\"duration\":12},{\"task\":\"complete my capstone\",\"duration\":8},{\"task\":\"bath\",\"duration\":0.5}],\"deadline\":\"15th Feb\"}'}}],\n",
       "    'refusal': None},\n",
       "   'logprobs': None,\n",
       "   'finish_reason': 'tool_calls'}],\n",
       " 'usage': {'prompt_tokens': 156,\n",
       "  'completion_tokens': 62,\n",
       "  'total_tokens': 218,\n",
       "  'prompt_tokens_details': {'cached_tokens': 0, 'audio_tokens': 0},\n",
       "  'completion_tokens_details': {'reasoning_tokens': 0,\n",
       "   'audio_tokens': 0,\n",
       "   'accepted_prediction_tokens': 0,\n",
       "   'rejected_prediction_tokens': 0}},\n",
       " 'service_tier': 'default',\n",
       " 'system_fingerprint': 'fp_72ed7ab54c',\n",
       " 'monthlyCost': 0.011406000000000001,\n",
       " 'cost': 0.00084,\n",
       " 'monthlyRequests': 6}"
      ]
     },
     "execution_count": 49,
     "metadata": {},
     "output_type": "execute_result"
    }
   ],
   "source": [
    "response.json()\n"
   ]
  }
 ],
 "metadata": {
  "kernelspec": {
   "display_name": "Python 3",
   "language": "python",
   "name": "python3"
  },
  "language_info": {
   "codemirror_mode": {
    "name": "ipython",
    "version": 3
   },
   "file_extension": ".py",
   "mimetype": "text/x-python",
   "name": "python",
   "nbconvert_exporter": "python",
   "pygments_lexer": "ipython3",
   "version": "3.12.5"
  }
 },
 "nbformat": 4,
 "nbformat_minor": 2
}
